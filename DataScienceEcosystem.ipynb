{
 "cells": [
  {
   "cell_type": "markdown",
   "id": "1b28ae11-5502-44ca-b4df-df3b09f0573b",
   "metadata": {},
   "source": [
    "# Data Science Tools and Ecosystem"
   ]
  },
  {
   "cell_type": "markdown",
   "id": "bad3b94e-bcde-4d2d-b287-9c3d901a22a8",
   "metadata": {},
   "source": [
    "### This notebook compiles data science tools and ecosystems."
   ]
  },
  {
   "cell_type": "markdown",
   "id": "b7ef6aa8-c69a-441b-86d0-84967f56571f",
   "metadata": {},
   "source": [
    "#### Popular languages used by some data scientists include:\n",
    "1. JAVA\n",
    "2. R Languages\n",
    "3. Python"
   ]
  },
  {
   "cell_type": "markdown",
   "id": "827edfd5-3168-4aa8-b138-8a8a215d3301",
   "metadata": {},
   "source": [
    "#### Some commonly used libraries among data scientists include:\n",
    "1. Pandas\n",
    "2. NumPy\n",
    "3. SciPy"
   ]
  },
  {
   "cell_type": "markdown",
   "id": "6ec0b185-6403-4cc5-b1d5-8d78efba2db7",
   "metadata": {},
   "source": [
    "| Data Science Tools |\n",
    "|-------------------|\n",
    "| Jupyter |\n",
    "| R Studio |\n",
    "| Apache Zepplin |"
   ]
  },
  {
   "cell_type": "markdown",
   "id": "ffb02949-9aab-4fb4-8447-a85287a0bb36",
   "metadata": {},
   "source": [
    "### Below are some examples of evaluating arithmetic expressions in Python."
   ]
  },
  {
   "cell_type": "code",
   "execution_count": null,
   "id": "e21f273c-caba-4c0d-840b-17446bccb515",
   "metadata": {},
   "outputs": [],
   "source": [
    "#This is a simple arithmetic expression for multiplying integers before adding them."
   ]
  },
  {
   "cell_type": "code",
   "execution_count": 3,
   "id": "ef27b84e-8db4-4f95-90cc-7ad4463e5d43",
   "metadata": {},
   "outputs": [
    {
     "data": {
      "text/plain": [
       "17"
      ]
     },
     "execution_count": 3,
     "metadata": {},
     "output_type": "execute_result"
    }
   ],
   "source": [
    "(3*4)+5"
   ]
  },
  {
   "cell_type": "code",
   "execution_count": 5,
   "id": "a1b71de1-2905-43e6-bbac-f55e5afd6b22",
   "metadata": {},
   "outputs": [
    {
     "name": "stdout",
     "output_type": "stream",
     "text": [
      "200 minutes is equal to 3.3333333333333335 hours\n"
     ]
    }
   ],
   "source": [
    "# This will convert 200 minutes into hours by dividing by 60.\n",
    "minutes = 200\n",
    "hours = minutes / 60\n",
    "print(f\"{minutes} minutes is equal to {hours} hours\")"
   ]
  },
  {
   "cell_type": "markdown",
   "id": "a1b49b92-fa77-45e2-98e3-38d280768dfc",
   "metadata": {},
   "source": [
    "# Goals\n",
    "- Popular languages used by some data scientists\n",
    "- Commonly used libraries among data scientists\n",
    "- Data Science Tools\n",
    "- Examples of evaluating arithmetic expressions in Python"
   ]
  },
  {
   "cell_type": "markdown",
   "id": "17208e2d-8113-49ff-b96b-4cde4def90ce",
   "metadata": {},
   "source": [
    "## Author\n",
    "Hanjing Liu"
   ]
  },
  {
   "cell_type": "code",
   "execution_count": null,
   "id": "02edcef1-96a4-44b4-b784-92f81a756f05",
   "metadata": {},
   "outputs": [],
   "source": []
  }
 ],
 "metadata": {
  "kernelspec": {
   "display_name": "Python [conda env:anaconda3-IMDB]",
   "language": "python",
   "name": "conda-env-anaconda3-IMDB-py"
  },
  "language_info": {
   "codemirror_mode": {
    "name": "ipython",
    "version": 3
   },
   "file_extension": ".py",
   "mimetype": "text/x-python",
   "name": "python",
   "nbconvert_exporter": "python",
   "pygments_lexer": "ipython3",
   "version": "3.13.5"
  }
 },
 "nbformat": 4,
 "nbformat_minor": 5
}
